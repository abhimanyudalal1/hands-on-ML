{
 "cells": [
  {
   "cell_type": "code",
   "execution_count": 7,
   "id": "037a7b2c",
   "metadata": {},
   "outputs": [],
   "source": [
    "###this is a practice file for oops. Ill be constructing a report management logic for msit.\n",
    "\n",
    "from ast import Str\n",
    "\n",
    "\n",
    "class Msit:\n",
    "    def __init__(self,Name: str,enrollment: int) -> None:\n",
    "        self.Name=Name\n",
    "        self.enrollment= enrollment\n",
    "\n",
    "    def rank(self) -> int:\n",
    "        # Calculate rank based on name length (example logic)\n",
    "        calculated_rank = len(self.Name)\n",
    "        print(f'Your rank is {calculated_rank}')\n",
    "        return calculated_rank\n",
    "    \n",
    "    def __str__(self) -> str:\n",
    "        return self.Name\n",
    "\n",
    "\n",
    "\n",
    "#abhimanu: Msit = Msit() or ~\n",
    "abhimanu = Msit(Name='abhimanu', enrollment=67)"
   ]
  },
  {
   "cell_type": "code",
   "execution_count": 8,
   "id": "fe273221",
   "metadata": {},
   "outputs": [
    {
     "name": "stdout",
     "output_type": "stream",
     "text": [
      "abhimanu\n"
     ]
    }
   ],
   "source": [
    "print(abhimanu)"
   ]
  },
  {
   "cell_type": "code",
   "execution_count": null,
   "id": "bc62e8bd",
   "metadata": {},
   "outputs": [],
   "source": []
  }
 ],
 "metadata": {
  "kernelspec": {
   "display_name": ".venv",
   "language": "python",
   "name": "python3"
  },
  "language_info": {
   "codemirror_mode": {
    "name": "ipython",
    "version": 3
   },
   "file_extension": ".py",
   "mimetype": "text/x-python",
   "name": "python",
   "nbconvert_exporter": "python",
   "pygments_lexer": "ipython3",
   "version": "3.11.13"
  }
 },
 "nbformat": 4,
 "nbformat_minor": 5
}
